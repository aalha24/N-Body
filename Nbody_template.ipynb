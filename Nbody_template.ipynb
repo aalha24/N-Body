{
 "cells": [
  {
   "cell_type": "code",
   "execution_count": 1,
   "metadata": {},
   "outputs": [
    {
     "data": {
      "text/plain": []
     },
     "execution_count": 1,
     "metadata": {},
     "output_type": "execute_result"
    }
   ],
   "source": [
    "#include<iostream>\n",
    "#include <fstream>\n",
    "#include <string>\n",
    "#include <vector>\n",
    "#include <iomanip>"
   ]
  },
  {
   "cell_type": "markdown",
   "metadata": {},
   "source": [
    "# N-body simulation"
   ]
  },
  {
   "cell_type": "markdown",
   "metadata": {},
   "source": [
    "In this exercise, we will implement the N-Body simulating using a direct sum to compute the forces and the Euler Method to update the positons"
   ]
  },
  {
   "cell_type": "markdown",
   "metadata": {},
   "source": [
    "## Datastrucutre"
   ]
  },
  {
   "cell_type": "markdown",
   "metadata": {},
   "source": [
    "* Write a generic struct for a vector\n",
    "* Add a function to compute the vector's norm\n",
    "* Add a constructor which initializes the vector to zero\n",
    "* Overload the operators +,-, and == for a second vector and the operator * for multplication with a scalar"
   ]
  },
  {
   "cell_type": "code",
   "execution_count": 2,
   "metadata": {},
   "outputs": [
    {
     "data": {
      "text/plain": []
     },
     "execution_count": 2,
     "metadata": {},
     "output_type": "execute_result"
    }
   ],
   "source": [
    "struct vector\n",
    "{\n",
    "    \n",
    "    double x,y,z;\n",
    "\n",
    "    friend std::istream& operator>>(std::istream&, vector&);\n",
    "    friend std::ostream& operator<<(std::ostream&, vector&);\n",
    "};"
   ]
  },
  {
   "cell_type": "code",
   "execution_count": 3,
   "metadata": {},
   "outputs": [
    {
     "data": {
      "text/plain": []
     },
     "execution_count": 3,
     "metadata": {},
     "output_type": "execute_result"
    }
   ],
   "source": [
    "const vector ORIGIN{ 0.0, 0.0, 0.0 };"
   ]
  },
  {
   "cell_type": "markdown",
   "metadata": {},
   "source": [
    "## Class for the $N$-body simulation\n",
    "\n",
    "* Write a function to compute the force $\\mathbf{F}_i=\\sum\\limits_{i=0,i\\neq j}^n \\mathbf{F}_{ij}= \\sum\\limits_{i=0,i\\neq j}^n g_c m_j \\frac{\\mathbf{r}_j-\\mathbf{r}_i}{\\vert \\mathbf{r}_j - \\mathbf{r}_i\\vert^3}$ for each body using a direct sum\n",
    "* Write a function to compute the velocity $\\mathbf{v}_i(t_k)=\\mathbf{v}_i(t_{k-1})+\\Delta t \\frac{\\mathbf{F}_i}{m_i}$ for each body\n",
    "* Write a funktion to update the new positions $\\mathbf{r}_i(t_{k+1})=\\mathbf{r}_i(t_k)+\\mathbf{v}_i(t_k)$ of a each body"
   ]
  },
  {
   "cell_type": "code",
   "execution_count": 5,
   "metadata": {},
   "outputs": [
    {
     "data": {
      "text/plain": []
     },
     "execution_count": 5,
     "metadata": {},
     "output_type": "execute_result"
    }
   ],
   "source": [
    "template<typename T>\n",
    "class Nbody\n",
    "{\n",
    "\n",
    "private:\n",
    "\n",
    "double gc;\n",
    "size_t n;\n",
    "size_t timeSteps;\n",
    "std::vector<double> masses;\n",
    "std::vector<vector> positions;\n",
    "std::vector<vector> velocities;\n",
    "std::vector<vector> accelerations;\n",
    "\n",
    "//Method to compute the acceleration\n",
    "void computeForces(){}\n",
    "\n",
    "//Method to compute the velocity\n",
    "void computVelocity(){}\n",
    "\n",
    "//Method to update the positions\n",
    "void updatePositions(){}\n",
    "\n",
    "//Method to detect collisions between bodys\n",
    "void detectCollisions(){\n",
    "\n",
    "  for (int i = 0; i < n; ++i) {\n",
    "            for (int j = i + 1; j < n; ++j) {\n",
    "                if (positions[i] == positions[j]) {\n",
    "                    std::swap(velocities[i], velocities[j]);\n",
    "                }\n",
    "            }\n",
    "        }\n",
    "\n",
    "}\n",
    "\n",
    "public:\n",
    "\n",
    "//Constructor\n",
    "Nbody(std::string& fileName) { \n",
    "\n",
    "std::ifstream ifs(fileName);\n",
    "        if (!ifs.is_open()) {\n",
    "            throw std::runtime_error(\"Could not open \" + fileName + \"!\");\n",
    "        }\n",
    "        \n",
    "\n",
    "//Read the gravity, the number of bodies, and the number of timesteps\n",
    "ifs >> gc >> n >> timeSteps;\n",
    "\n",
    "masses.resize(n);\n",
    "positions.resize(n);\n",
    "std::fill(positions.begin(), positions.end(), ORIGIN);\n",
    "velocities.resize(n);\n",
    "std::fill(velocities.begin(), velocities.end(), ORIGIN);\n",
    "accelerations.resize(n);\n",
    "std::fill(accelerations.begin(), accelerations.end(), ORIGIN);\n",
    "}\n",
    "\n",
    "\n",
    "};"
   ]
  },
  {
   "cell_type": "code",
   "execution_count": 6,
   "metadata": {},
   "outputs": [
    {
     "data": {
      "text/plain": []
     },
     "execution_count": 6,
     "metadata": {},
     "output_type": "execute_result"
    }
   ],
   "source": [
    "std::string fileName = \"nbody.txt\";\n"
   ]
  },
  {
   "cell_type": "code",
   "execution_count": 7,
   "metadata": {},
   "outputs": [
    {
     "data": {
      "text/plain": []
     },
     "execution_count": 7,
     "metadata": {},
     "output_type": "execute_result"
    }
   ],
   "source": [
    "Nbody<double> nb(fileName);"
   ]
  }
 ],
 "metadata": {
  "kernelspec": {
   "display_name": "C++14",
   "language": "C++",
   "name": "cling-cpp14"
  },
  "language_info": {
   "codemirror_mode": "c++",
   "file_extension": ".c++",
   "mimetype": "text/x-c++src",
   "name": "c++"
  }
 },
 "nbformat": 4,
 "nbformat_minor": 2
}
